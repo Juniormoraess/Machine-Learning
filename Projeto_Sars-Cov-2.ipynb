{
  "nbformat": 4,
  "nbformat_minor": 0,
  "metadata": {
    "colab": {
      "name": "Projeto_AMA.ipynb",
      "provenance": [],
      "collapsed_sections": [],
      "include_colab_link": true
    },
    "kernelspec": {
      "display_name": "Python 3",
      "language": "python",
      "name": "python3"
    },
    "language_info": {
      "codemirror_mode": {
        "name": "ipython",
        "version": 3
      },
      "file_extension": ".py",
      "mimetype": "text/x-python",
      "name": "python",
      "nbconvert_exporter": "python",
      "pygments_lexer": "ipython3",
      "version": "3.8.8"
    }
  },
  "cells": [
    {
      "cell_type": "markdown",
      "metadata": {
        "id": "view-in-github",
        "colab_type": "text"
      },
      "source": [
        "<a href=\"https://colab.research.google.com/github/Juniormoraess/Machine-Learning/blob/master/Projeto_Sars-Cov-2.ipynb\" target=\"_parent\"><img src=\"https://colab.research.google.com/assets/colab-badge.svg\" alt=\"Open In Colab\"/></a>"
      ]
    },
    {
      "cell_type": "markdown",
      "metadata": {
        "id": "GPT4n0LbI73g"
      },
      "source": [
        "# Comparação entre modelos de classificação para Sars-Cov-2"
      ]
    },
    {
      "cell_type": "code",
      "metadata": {
        "id": "za3MAMy8DuKs"
      },
      "source": [
        "import pandas as pd\n",
        "import numpy as np\n",
        "from sklearn.model_selection import GridSearchCV, StratifiedKFold, train_test_split, KFold, learning_curve, ShuffleSplit\n",
        "from sklearn.neural_network import MLPClassifier\n",
        "from sklearn.linear_model import LogisticRegression\n",
        "from sklearn.preprocessing import StandardScaler, MinMaxScaler\n",
        "from sklearn.svm import SVC\n",
        "import matplotlib.pyplot as plt\n",
        "import seaborn as sns\n",
        "from sklearn.tree import DecisionTreeClassifier\n",
        "from sklearn.metrics import accuracy_score, precision_score, recall_score, f1_score, confusion_matrix"
      ],
      "execution_count": null,
      "outputs": []
    },
    {
      "cell_type": "code",
      "metadata": {
        "colab": {
          "base_uri": "https://localhost:8080/"
        },
        "id": "hKfwfQPpkFTC",
        "outputId": "7b194e64-93ea-4144-ffe0-7120feb7672c"
      },
      "source": [
        "from google.colab import drive\n",
        "drive.mount('/content/drive')"
      ],
      "execution_count": null,
      "outputs": [
        {
          "output_type": "stream",
          "name": "stdout",
          "text": [
            "Mounted at /content/drive\n"
          ]
        }
      ]
    },
    {
      "cell_type": "markdown",
      "metadata": {
        "id": "8cHxgS45ogwk"
      },
      "source": [
        "## Funções principais"
      ]
    },
    {
      "cell_type": "code",
      "metadata": {
        "id": "ehchuGPm0nMs"
      },
      "source": [
        "def accuracy (y, y_pred):\n",
        "    count = 0\n",
        "    for i in range(len(y)):\n",
        "        if y[i] == y_pred[i]:\n",
        "             count += 1 \n",
        " \n",
        "    return count / len(y)\n",
        "    \n",
        "def recall (y, y_pred):\n",
        "    tp, fn = 0, 0\n",
        "    \n",
        "    for i in range(len(y)):\n",
        "        if(y[i] == y_pred[i]):\n",
        "            tp += 1\n",
        "        else:\n",
        "            fn += 1\n",
        "    \n",
        "    return tp / (tp + fn)\n",
        " \n",
        "def precision (y, y_pred):\n",
        "    tp, fp = 0, 0\n",
        "    \n",
        "    for i in range(len(y)):\n",
        "        if y[i] == y_pred[i]:\n",
        "            tp += 1\n",
        "        elif y[i] == 1 and y_pred[i] == 0:\n",
        "            fp += 1\n",
        "    \n",
        "    return tp / (tp + fp)\n",
        " \n",
        "def F1 (y, y_pred):\n",
        "    tp, fp, fn = 0, 0, 0\n",
        "    \n",
        "    for i in range(len(y)):\n",
        "        if y[i] == y_pred[i]:\n",
        "            tp += 1\n",
        "        elif y[i] == 1 and y_pred[i] == 0:\n",
        "            fp += 1\n",
        "        else:\n",
        "            fn += 1\n",
        "            \n",
        "    return tp / (tp + 0.5 * (fp + fn))"
      ],
      "execution_count": null,
      "outputs": []
    },
    {
      "cell_type": "code",
      "metadata": {
        "id": "Mg0wkFFmWg78"
      },
      "source": [
        "def compute_metrics(y, y_pred):\n",
        "    metrics = {\n",
        "        'Acurácia': accuracy_score(y, y_pred), \n",
        "        'Precisão': precision_score(y, y_pred), \n",
        "        'Recall': recall_score(y, y_pred), \n",
        "        'F1-Score': f1_score(y, y_pred)\n",
        "    }\n",
        "\n",
        "    return pd.DataFrame(pd.Series(metrics))"
      ],
      "execution_count": null,
      "outputs": []
    },
    {
      "cell_type": "code",
      "metadata": {
        "id": "l2acUjDrf8EK",
        "scrolled": false
      },
      "source": [
        "class LogisticReg:\n",
        "    def __init__(self, n_iter=200):\n",
        "        self.n_iter = n_iter\n",
        "\n",
        "    def fit(self, X_train, y_train, params, cv):\n",
        "        self.estimator = LogisticRegression(max_iter=self.n_iter)\n",
        "        gs = GridSearchCV(estimator=self.estimator, param_grid=params, cv=cv)\n",
        "        gs.fit(X_train, y_train)\n",
        "        self.best_params = gs.best_params_\n",
        "\n",
        "        self.estimator = LogisticRegression(max_iter=self.n_iter, **self.best_params)\n",
        "        self.estimator.fit(X_train, y_train)\n",
        "    \n",
        "    def predict(self, X_test):\n",
        "        pred = self.estimator.predict(X_test)\n",
        "        self.best_estimator = self.estimator\n",
        "        return pred\n",
        "\n",
        "    def calc_metrics(self, y_test, pred):\n",
        "        self.metrics = compute_metrics(y_test, pred)\n",
        "        self.metrics.rename(columns={0: 'Reg. Log.'})\n",
        "\n",
        "    def plot_metrics(self):\n",
        "        plt.title('Métricas do Modelo')\n",
        "        self.metrics.rename(columns={0: 'Reg. Log.'})\n",
        "        sns.barplot(x=self.metrics.index.to_list(), y=self.metrics[0])\n",
        "        plt.show()"
      ],
      "execution_count": null,
      "outputs": []
    },
    {
      "cell_type": "code",
      "metadata": {
        "id": "f5utDVQdNQjV"
      },
      "source": [
        "class SVM:\n",
        "    def __init__(self, n_iter=200):\n",
        "        self.n_iter = n_iter\n",
        "\n",
        "    def fit(self, X_train, y_train, params, cv):\n",
        "        self.estimator = SVC(kernel='rbf', max_iter=self.n_iter)\n",
        "        gs = GridSearchCV(self.estimator, param_grid=params, cv=cv)\n",
        "        gs.fit(X_train, y_train)\n",
        "        self.best_params = gs.best_params_\n",
        "\n",
        "        self.estimator = SVC(kernel='rbf', max_iter=self.n_iter, **self.best_params)\n",
        "        self.estimator.fit(X_train, y_train)\n",
        "\n",
        "    def predict(self, X_test):\n",
        "        pred = self.estimator.predict(X_test)\n",
        "        self.best_estimator = self.estimator\n",
        "        return pred\n",
        "    \n",
        "    def calc_metrics(self, y_test, pred):\n",
        "        self.metrics = compute_metrics(y_test, pred)\n",
        "        self.metrics.rename(columns={0: 'SVM'})\n",
        "\n",
        "    def plot_metrics(self):\n",
        "        plt.title('Métricas do Modelo')\n",
        "        self.metrics.rename(columns={0: 'SVM'})\n",
        "        sns.barplot(x=self.metrics.index.to_list(), y=self.metrics[0])\n",
        "        plt.show()"
      ],
      "execution_count": null,
      "outputs": []
    },
    {
      "cell_type": "code",
      "metadata": {
        "id": "tpd6IvMXsiXU"
      },
      "source": [
        "class MLP:\n",
        "    def __init__(self, n_iter=200):\n",
        "        self.n_iter = n_iter\n",
        "\n",
        "    def fit(self, X_train, y_train, params, cv):\n",
        "        self.estimator = MLPClassifier(solver='sgd', max_iter=self.n_iter, verbose=2)\n",
        "\n",
        "        gs = GridSearchCV(estimator=self.estimator, param_grid=params, cv=cv)\n",
        "        gs.fit(X_train, y_train)\n",
        "        self.best_params = gs.best_params_\n",
        "\n",
        "        self.estimator = MLPClassifier(solver='sgd', max_iter=self.n_iter, **self.best_params)\n",
        "        self.estimator.fit(X_train, y_train)\n",
        "\n",
        "    def predict(self, X_test):\n",
        "        pred = self.estimator.predict(X_test)\n",
        "        self.best_estimator = self.estimator\n",
        "        return pred\n",
        "\n",
        "    def calc_metrics(self, y_test, pred):\n",
        "        self.metrics = compute_metrics(y_test, pred)\n",
        "        self.metrics.rename(columns={0: 'MLP'})\n",
        "\n",
        "    def plot_metrics(self):\n",
        "        plt.title('Métricas do Modelo')\n",
        "        self.metrics.rename(columns={0: 'MLP'})\n",
        "        sns.barplot(x=self.metrics.index.to_list(), y=self.metrics[0])\n",
        "        plt.show()"
      ],
      "execution_count": null,
      "outputs": []
    },
    {
      "cell_type": "markdown",
      "metadata": {
        "id": "AipJ6brwokNc"
      },
      "source": [
        "## Carregando a base de dados"
      ]
    },
    {
      "cell_type": "code",
      "metadata": {
        "id": "pEQKDNG6f8EH"
      },
      "source": [
        "cols = pd.read_csv('/content/drive/MyDrive/Colab Notebooks/srag_cov_columns.csv', delimiter=';')\n",
        "columns = cols['Colunas CLASS'].dropna().tolist()"
      ],
      "execution_count": null,
      "outputs": []
    },
    {
      "cell_type": "code",
      "metadata": {
        "id": "oCEX6t4rf8EH"
      },
      "source": [
        "dataset = pd.read_csv('/content/drive/MyDrive/Colab Notebooks/srag_cov_class.csv', sep=',', usecols=columns)"
      ],
      "execution_count": null,
      "outputs": []
    },
    {
      "cell_type": "code",
      "metadata": {
        "id": "co55rsi9f8EJ"
      },
      "source": [
        "def binary(data):\n",
        "    if data == 5:\n",
        "        return 0\n",
        "    else :\n",
        "        return 1\n",
        "\n",
        "y = dataset['CLASSI_FIN'].apply(binary).to_numpy()\n",
        "X = dataset.drop('CLASSI_FIN', axis=1).to_numpy()\n",
        "\n",
        "scaler = MinMaxScaler()\n",
        "\n",
        "X_train, X_test, y_train, y_test = train_test_split(X, y, random_state=123, test_size=0.2)\n",
        "\n",
        "scaler.fit(X_train)\n",
        "X_train = scaler.transform(X_train)\n",
        "X_test = scaler.transform(X_test)\n",
        "\n",
        "skf = KFold(n_splits=5)"
      ],
      "execution_count": null,
      "outputs": []
    },
    {
      "cell_type": "markdown",
      "metadata": {
        "id": "tQ_gUiNbobMP"
      },
      "source": [
        "## Treinando a Regressão Logística"
      ]
    },
    {
      "cell_type": "code",
      "metadata": {
        "id": "_Z6679lX1DF3"
      },
      "source": [
        "params_lr = {'C': [1, 10, 100, 1000, 10000]}\n",
        "log_reg = LogisticReg(n_iter=200)\n",
        "log_reg.fit(X_train, y_train, params_lr, skf)\n",
        "pred_lr = log_reg.predict(X_test)"
      ],
      "execution_count": null,
      "outputs": []
    },
    {
      "cell_type": "markdown",
      "metadata": {
        "id": "mjaCZgkiSN_E"
      },
      "source": [
        "### Métricas e melhores parâmetros"
      ]
    },
    {
      "cell_type": "code",
      "metadata": {
        "colab": {
          "base_uri": "https://localhost:8080/",
          "height": 417
        },
        "id": "xTSoGxmDn7Kd",
        "outputId": "bd7c7d4b-b620-4af8-e85d-6836cb870bcb"
      },
      "source": [
        "print(f'Melhores parâmetros: {log_reg.best_params}')\n",
        "print('\\nMétricas:')\n",
        "metrics_lr = log_reg.calc_metrics(y_test, pred_lr)\n",
        "print(log_reg.metrics[0])\n",
        "log_reg.plot_metrics()"
      ],
      "execution_count": null,
      "outputs": [
        {
          "name": "stdout",
          "output_type": "stream",
          "text": [
            "Melhores parâmetros: {'C': 10000}\n",
            "\n",
            "Métricas:\n",
            "Acurácia    0.893810\n",
            "Precisão    0.793740\n",
            "Recall      0.826014\n",
            "F1-Score    0.809555\n",
            "Name: 0, dtype: float64\n"
          ]
        },
        {
          "data": {
            "image/png": "[encoded data removed]",
            "text/plain": [
              "<Figure size 432x288 with 1 Axes>"
            ]
          },
          "metadata": {},
          "output_type": "display_data"
        }
      ]
    },
    {
      "cell_type": "markdown",
      "metadata": {
        "id": "cOBFYym_onV9"
      },
      "source": [
        "## Treinando o SVM"
      ]
    },
    {
      "cell_type": "code",
      "metadata": {
        "id": "WG0A_juyOCWV"
      },
      "source": [
        "gamma_range = np.array((2e-3, 2e-1, 2e1))\n",
        "c_range = np.array((2e-3, 2e-1, 2e1))\n",
        " \n",
        "params_svm = dict(gamma=gamma_range, C=c_range)\n",
        "it = 2000\n",
        "svm = SVM(n_iter=it)\n",
        "svm.fit(X_train, y_train, params_svm, skf)\n",
        "pred_svm = svm.predict(X_test)"
      ],
      "execution_count": null,
      "outputs": []
    },
    {
      "cell_type": "markdown",
      "metadata": {
        "id": "k715PDb-RQ8L"
      },
      "source": [
        "### Métricas e melhores parâmetros"
      ]
    },
    {
      "cell_type": "code",
      "metadata": {
        "colab": {
          "base_uri": "https://localhost:8080/",
          "height": 420
        },
        "id": "7lXjAMCQTXT4",
        "outputId": "5b0a6204-2c30-49d8-879a-01d96667f2cf"
      },
      "source": [
        "print(f'Melhores parâmetros: {svm.best_params}')\n",
        "print('\\nMétricas:')\n",
        "metrics_svm = svm.calc_metrics(y_test, pred_svm)\n",
        "print(svm.metrics[0])\n",
        "svm.plot_metrics()"
      ],
      "execution_count": null,
      "outputs": [
        {
          "output_type": "stream",
          "name": "stdout",
          "text": [
            "Melhores parâmetros: {'C': 20.0, 'gamma': 0.2}\n",
            "\n",
            "Métricas:\n",
            "Acurácia    0.786500\n",
            "Precisão    0.593750\n",
            "Recall      0.702806\n",
            "F1-Score    0.643692\n",
            "Name: 0, dtype: float64\n"
          ]
        },
        {
          "output_type": "display_data",
          "data": {
            "image/png": "[encoded data removed]",
            "text/plain": [
              "<Figure size 432x288 with 1 Axes>"
            ]
          },
          "metadata": {
            "needs_background": "light"
          }
        }
      ]
    },
    {
      "cell_type": "markdown",
      "metadata": {
        "id": "z8QHUx6yopg8"
      },
      "source": [
        "### Treinando a Rede Neural"
      ]
    },
    {
      "cell_type": "code",
      "metadata": {
        "id": "Nl44hv6-lBqo"
      },
      "source": [
        "params_mlp = {'hidden_layer_sizes': [4, 16, 32], \n",
        "              'batch_size': [8, 16, 32]\n",
        "              }\n",
        " \n",
        "mlp = MLP(n_iter=3)\n",
        "mlp.fit(X_train, y_train, params_mlp, skf)\n",
        "pred_mlp = mlp.predict(X_test)"
      ],
      "execution_count": null,
      "outputs": []
    },
    {
      "cell_type": "code",
      "metadata": {
        "colab": {
          "base_uri": "https://localhost:8080/",
          "height": 433
        },
        "id": "T16B54muTKrh",
        "outputId": "d1be1fb9-263d-4804-8276-17156a4615f0"
      },
      "source": [
        "pred_mlp = mlp.predict(X_test)\n",
        "print(f'Melhores parâmetros: {mlp.best_params}')\n",
        "print('\\nMétricas:')\n",
        "metrics_mlp = compute_metrics(y_test, pred_mlp)\n",
        "metrics_mlp.rename(columns={0: 'MLP'}, inplace=True)\n",
        "print(metrics_mlp)\n",
        " \n",
        "plt.title('Métricas do Modelo')\n",
        "sns.barplot(x=metrics_mlp.index.to_list(), y=metrics_mlp['MLP'])\n",
        "plt.show()"
      ],
      "execution_count": null,
      "outputs": [
        {
          "output_type": "stream",
          "name": "stdout",
          "text": [
            "Melhores parâmetros: {'batch_size': 8, 'hidden_layer_sizes': 32}\n",
            "\n",
            "Métricas:\n",
            "               MLP\n",
            "Acurácia  0.938134\n",
            "Precisão  0.850173\n",
            "Recall    0.940848\n",
            "F1-Score  0.893215\n"
          ]
        },
        {
          "output_type": "display_data",
          "data": {
            "image/png": "[encoded data removed]",
            "text/plain": [
              "<Figure size 432x288 with 1 Axes>"
            ]
          },
          "metadata": {
            "needs_background": "light"
          }
        }
      ]
    },
    {
      "cell_type": "markdown",
      "metadata": {
        "id": "EdP5PCr9lpJ_"
      },
      "source": [
        "## Tabela de Métricas"
      ]
    },
    {
      "cell_type": "code",
      "metadata": {
        "id": "Wwi84vPjQ_SB"
      },
      "source": [
        "df = pd.DataFrame(pd.Series(metrics_lr))\n",
        "df['SVM'] = metrics_svm.values()\n",
        "df['MLP'] = metrics_mlp.values()\n",
        "df.rename(columns={0: 'Reg. Logística'})"
      ],
      "execution_count": null,
      "outputs": []
    },
    {
      "cell_type": "code",
      "metadata": {
        "id": "Jegf7_GpB_Xt"
      },
      "source": [
        "import numpy as np\n",
        "import matplotlib.pyplot as plt\n",
        "from sklearn import datasets\n",
        "from sklearn import metrics\n",
        "from sklearn.metrics import confusion_matrix\n",
        "from sklearn.utils.multiclass import unique_labels\n",
        "from sklearn.preprocessing import StandardScaler\n",
        "from sklearn.model_selection import train_test_split\n",
        "from sklearn.linear_model import LogisticRegression\n",
        " \n",
        "# Matplolib defaults\n",
        "figsize = (8,6)\n",
        "fontsize = 20\n",
        "markersize = 12\n",
        "linewidth = 2\n",
        "dpi = 300\n",
        "plt.rcParams.update({'figure.autolayout': True})\n",
        " \n",
        "def plot_confusion_matrix(y_true, y_pred, classes,\n",
        "                          normalize=False,\n",
        "                          title=None,\n",
        "                          cmap=plt.cm.Blues):\n",
        "    \"\"\"\n",
        "    This function prints and plots the confusion matrix.\n",
        "    Normalization can be applied by setting `normalize=True`.\n",
        "    \"\"\"\n",
        "    if not title:\n",
        "        if normalize:\n",
        "            title = 'Normalized confusion matrix'\n",
        "        else:\n",
        "            title = 'Confusion matrix, without normalization'\n",
        " \n",
        "    # Compute confusion matrix\n",
        "    cm = confusion_matrix(y_true, y_pred)\n",
        "    # Only use the labels that appear in the data\n",
        "    classes = classes[unique_labels(y_true, y_pred)]\n",
        "    if normalize:\n",
        "        cm = cm.astype('float') / cm.sum(axis=1)[:, np.newaxis]\n",
        "        print(title)\n",
        "    else:\n",
        "        print(title)\n",
        " \n",
        "    print(cm)\n",
        " \n",
        "    plt.rcParams.update({'font.size': 16})\n",
        "    fig, ax = plt.subplots(figsize=figsize)    \n",
        "    im = ax.imshow(cm, interpolation='nearest', cmap=cmap)\n",
        "    ax.figure.colorbar(im, ax=ax)\n",
        "    # We want to show all ticks...\n",
        "    ax.set(xticks=np.arange(cm.shape[1]),\n",
        "           yticks=np.arange(cm.shape[0]),\n",
        "           # ... and label them with the respective list entries\n",
        "           xticklabels=classes, yticklabels=classes,\n",
        "           title=title,\n",
        "           ylabel='True label',\n",
        "           xlabel='Predicted label')\n",
        " \n",
        "    # Rotate the tick labels and set their alignment.\n",
        "    plt.setp(ax.get_xticklabels(), rotation=45, ha=\"right\",\n",
        "             rotation_mode=\"anchor\")\n",
        " \n",
        "    # Loop over data dimensions and create text annotations.\n",
        "    fmt = '.2f' if normalize else 'd'\n",
        "    thresh = cm.max() / 2.\n",
        "    for i in range(cm.shape[0]):\n",
        "        for j in range(cm.shape[1]):\n",
        "            ax.text(j, i, format(cm[i, j], fmt),\n",
        "                    ha=\"center\", va=\"center\",\n",
        "                    color=\"white\" if cm[i, j] > thresh else \"black\")\n",
        "            \n",
        "    fig.tight_layout()\n",
        "    \n",
        "    return ax"
      ],
      "execution_count": null,
      "outputs": []
    },
    {
      "cell_type": "code",
      "metadata": {
        "colab": {
          "base_uri": "https://localhost:8080/",
          "height": 479
        },
        "id": "_-5SS3P3ca84",
        "outputId": "1353fa3b-8fb8-4233-c812-cde6a20f82ad"
      },
      "source": [
        "plot_confusion_matrix(y_test.astype('int'), y_pred=pred_mlp.astype('int'), classes=mlp.best_estimator.classes_.astype('int'), title=\"Matriz de Confusão (RNA)\")\n",
        "plt.savefig('confusion_matrix_mlp')"
      ],
      "execution_count": null,
      "outputs": [
        {
          "output_type": "stream",
          "name": "stdout",
          "text": [
            "Matriz de Confusão (RNA)\n",
            "[[184677  12395]\n",
            " [  4422  70334]]\n"
          ]
        },
        {
          "output_type": "display_data",
          "data": {
            "image/png": "[encoded data removed]",
            "text/plain": [
              "<Figure size 576x432 with 2 Axes>"
            ]
          },
          "metadata": {
            "needs_background": "light"
          }
        }
      ]
    },
    {
      "cell_type": "code",
      "metadata": {
        "colab": {
          "base_uri": "https://localhost:8080/",
          "height": 479
        },
        "id": "YLLSVle_I_FU",
        "outputId": "6a294718-bc27-4a9f-80e0-e893579de411"
      },
      "source": [
        "plot_confusion_matrix(y_test.astype('int'), y_pred=pred_lr.astype('int'), classes=log_reg.best_estimator.classes_.astype('int'), title=\"Matriz de Confusão (Regressão Logística)\")\n",
        "plt.savefig('confusion_matrix_rl')"
      ],
      "execution_count": null,
      "outputs": [
        {
          "output_type": "stream",
          "name": "stdout",
          "text": [
            "Matriz de Confusão (Regressão Logística)\n",
            "[[181391  15681]\n",
            " [ 13058  61698]]\n"
          ]
        },
        {
          "output_type": "display_data",
          "data": {
            "image/png": "[encoded data removed]",
            "text/plain": [
              "<Figure size 576x432 with 2 Axes>"
            ]
          },
          "metadata": {
            "needs_background": "light"
          }
        }
      ]
    },
    {
      "cell_type": "code",
      "metadata": {
        "colab": {
          "base_uri": "https://localhost:8080/",
          "height": 479
        },
        "id": "B7x0X6L1JJgv",
        "outputId": "22ef6ae8-b9af-4e25-9dad-379cf6d2dc41"
      },
      "source": [
        "plot_confusion_matrix(y_test.astype('int'), y_pred=pred_svm.astype('int'), classes=svm.best_estimator.classes_.astype('int'), title=\"Matriz de Confusão (SVM)\")\n",
        "plt.savefig('confusion_matrix_svm')"
      ],
      "execution_count": null,
      "outputs": [
        {
          "output_type": "stream",
          "name": "stdout",
          "text": [
            "Matriz de Confusão (SVM)\n",
            "[[11873  2639]\n",
            " [ 1631  3857]]\n"
          ]
        },
        {
          "output_type": "display_data",
          "data": {
            "image/png": "[encoded data removed]",
            "text/plain": [
              "<Figure size 576x432 with 2 Axes>"
            ]
          },
          "metadata": {
            "needs_background": "light"
          }
        }
      ]
    },
    {
      "cell_type": "code",
      "metadata": {
        "id": "_1qWAp6xMt6N",
        "colab": {
          "base_uri": "https://localhost:8080/"
        },
        "outputId": "7200f4bd-0c37-458b-bdcb-0165f55d75ac"
      },
      "source": [
        "len(np.where(y_test == 1)[0])"
      ],
      "execution_count": null,
      "outputs": [
        {
          "output_type": "execute_result",
          "data": {
            "text/plain": [
              "74756"
            ]
          },
          "metadata": {},
          "execution_count": 41
        }
      ]
    },
    {
      "cell_type": "code",
      "metadata": {
        "colab": {
          "base_uri": "https://localhost:8080/"
        },
        "id": "ukJIc24h9nDS",
        "outputId": "ed92ef5e-3785-4a04-e1cb-8dc65720111a"
      },
      "source": [
        "dataset.shape"
      ],
      "execution_count": null,
      "outputs": [
        {
          "output_type": "execute_result",
          "data": {
            "text/plain": [
              "(1359139, 79)"
            ]
          },
          "metadata": {},
          "execution_count": 53
        }
      ]
    },
    {
      "cell_type": "code",
      "metadata": {
        "id": "i5YmabW49rTR"
      },
      "source": [
        ""
      ],
      "execution_count": null,
      "outputs": []
    }
  ]
}